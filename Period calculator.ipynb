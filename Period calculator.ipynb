{
 "cells": [
  {
   "cell_type": "code",
   "execution_count": 2,
   "id": "43b9214b",
   "metadata": {},
   "outputs": [],
   "source": [
    "from sympy import *\n",
    "from sympy.series.formal import fps\n",
    "import numpy as np"
   ]
  },
  {
   "cell_type": "code",
   "execution_count": 3,
   "id": "c6437002",
   "metadata": {},
   "outputs": [],
   "source": [
    "x, y, vx, vy = symbols('x y v_x v_y')#original coordinates\n",
    "xi, eta, zeta1, zeta2 = symbols('xi eta zeta_1 zeta_2')#eigen coordinates\n",
    "#u, w = symbols('u w')#original point vs point in eigen\n",
    "mu, xe = symbols('mu x_e')\n",
    "lam, nu = symbols('lambda nu')#eigenvalues"
   ]
  },
  {
   "cell_type": "code",
   "execution_count": 4,
   "id": "a71f0366",
   "metadata": {},
   "outputs": [],
   "source": [
    "dS = sqrt((x+mu)**2+y**2)#distance to the Sun\n",
    "dM = sqrt((x+mu-1)**2+y**2)#distance to Mars\n",
    "U = (x**2+y**2)/2 + (1-mu)/dS + mu/dM#potential\n",
    "mub = mu/abs(xe-1+mu)**3 + (1-mu)/abs(xe+mu)**3\n",
    "a, b = 2*mub+1, mub-1\n",
    "sigma, tau = symbols('sigma tau')\n",
    "gamma = symbols('gamma', positive=True)\n",
    "Sigma, Tau = 2*lam/(lam**2+b), -(nu**2+a)/(2*nu)"
   ]
  },
  {
   "cell_type": "code",
   "execution_count": 5,
   "id": "af1a4a5d",
   "metadata": {},
   "outputs": [],
   "source": [
    "#u = Aw, w = Bu\n",
    "A = Matrix([[1,1,1,1],\n",
    "            [-sigma,sigma,-I*tau,I*tau],\n",
    "            [lam,-lam,I*nu,-I*nu],\n",
    "            [-lam*sigma,-lam*sigma,nu*tau,nu*tau]])\n",
    "B = A.inv()"
   ]
  },
  {
   "cell_type": "code",
   "execution_count": 8,
   "id": "b8cca629",
   "metadata": {},
   "outputs": [
    {
     "data": {
      "text/latex": [
       "$\\displaystyle \\frac{\\mu}{\\sqrt{\\left(\\eta \\sigma - \\sigma \\xi - i \\tau \\zeta_{1} + i \\tau \\zeta_{2}\\right)^{2} + \\left(\\eta + \\mu + \\xi + \\zeta_{1} + \\zeta_{2} - 1\\right)^{2}}} + \\frac{1 - \\mu}{\\sqrt{\\left(\\eta \\sigma - \\sigma \\xi - i \\tau \\zeta_{1} + i \\tau \\zeta_{2}\\right)^{2} + \\left(\\eta + \\mu + \\xi + \\zeta_{1} + \\zeta_{2}\\right)^{2}}} + \\frac{\\left(\\eta + \\xi + \\zeta_{1} + \\zeta_{2}\\right)^{2}}{2} + \\frac{\\left(\\eta \\sigma - \\sigma \\xi - i \\tau \\zeta_{1} + i \\tau \\zeta_{2}\\right)^{2}}{2}$"
      ],
      "text/plain": [
       "mu/sqrt((eta*sigma - sigma*xi - I*tau*zeta_1 + I*tau*zeta_2)**2 + (eta + mu + xi + zeta_1 + zeta_2 - 1)**2) + (1 - mu)/sqrt((eta*sigma - sigma*xi - I*tau*zeta_1 + I*tau*zeta_2)**2 + (eta + mu + xi + zeta_1 + zeta_2)**2) + (eta + xi + zeta_1 + zeta_2)**2/2 + (eta*sigma - sigma*xi - I*tau*zeta_1 + I*tau*zeta_2)**2/2"
      ]
     },
     "execution_count": 8,
     "metadata": {},
     "output_type": "execute_result"
    }
   ],
   "source": [
    "u = Matrix([[x],[y],[vx],[vy]])\n",
    "w = Matrix([[xi],[eta],[zeta1],[zeta2]])\n",
    "xt, yt, vxt, vyt = A*w\n",
    "E = (vx**2+vy**2)\n",
    "U.subs([(x,xt),(y,yt),(vx,vxt),(vy,vyt)])"
   ]
  },
  {
   "cell_type": "code",
   "execution_count": 6,
   "id": "7b598a85",
   "metadata": {},
   "outputs": [
    {
     "ename": "NameError",
     "evalue": "name 'Uxx' is not defined",
     "output_type": "error",
     "traceback": [
      "\u001b[1;31m---------------------------------------------------------------------------\u001b[0m",
      "\u001b[1;31mNameError\u001b[0m                                 Traceback (most recent call last)",
      "\u001b[1;32m<ipython-input-6-45a385380eb9>\u001b[0m in \u001b[0;36m<module>\u001b[1;34m\u001b[0m\n\u001b[0;32m      1\u001b[0m dUe = Matrix([[0,0,1,0],\n\u001b[0;32m      2\u001b[0m               \u001b[1;33m[\u001b[0m\u001b[1;36m0\u001b[0m\u001b[1;33m,\u001b[0m\u001b[1;36m0\u001b[0m\u001b[1;33m,\u001b[0m\u001b[1;36m0\u001b[0m\u001b[1;33m,\u001b[0m\u001b[1;36m1\u001b[0m\u001b[1;33m]\u001b[0m\u001b[1;33m,\u001b[0m\u001b[1;33m\u001b[0m\u001b[1;33m\u001b[0m\u001b[0m\n\u001b[1;32m----> 3\u001b[1;33m               \u001b[1;33m[\u001b[0m\u001b[0mUxx\u001b[0m\u001b[1;33m,\u001b[0m\u001b[1;36m0\u001b[0m\u001b[1;33m,\u001b[0m\u001b[1;36m0\u001b[0m\u001b[1;33m,\u001b[0m\u001b[1;36m2\u001b[0m\u001b[1;33m]\u001b[0m\u001b[1;33m,\u001b[0m\u001b[1;33m\u001b[0m\u001b[1;33m\u001b[0m\u001b[0m\n\u001b[0m\u001b[0;32m      4\u001b[0m               [0,Uyy,-2,0]])\n\u001b[0;32m      5\u001b[0m \u001b[0meig\u001b[0m \u001b[1;33m=\u001b[0m \u001b[0mdUe\u001b[0m\u001b[1;33m.\u001b[0m\u001b[0meigenvals\u001b[0m\u001b[1;33m(\u001b[0m\u001b[1;33m)\u001b[0m\u001b[1;33m\u001b[0m\u001b[1;33m\u001b[0m\u001b[0m\n",
      "\u001b[1;31mNameError\u001b[0m: name 'Uxx' is not defined"
     ]
    }
   ],
   "source": [
    "dUe = Matrix([[0,0,1,0],\n",
    "              [0,0,0,1],\n",
    "              [Uxx,0,0,2],\n",
    "              [0,Uyy,-2,0]])\n",
    "eig = dUe.eigenvals()\n",
    "-sqrt(-gamma**2 - sqrt(3*gamma**2 + 6*gamma + 4)*sqrt(11*gamma**2 + 30*gamma + 28) + 2)/sqrt(4*gamma**2 + 6*gamma + 2)"
   ]
  },
  {
   "cell_type": "code",
   "execution_count": 29,
   "id": "34df8fc5",
   "metadata": {},
   "outputs": [
    {
     "data": {
      "text/latex": [
       "$\\displaystyle \\frac{\\gamma^{3} \\left(\\gamma^{2} + 3 \\gamma + 3\\right)}{\\gamma^{4} + 2 \\gamma^{3} + \\gamma^{2} + 2 \\gamma + 1}$"
      ],
      "text/plain": [
       "gamma**3*(gamma**2 + 3*gamma + 3)/(gamma**4 + 2*gamma**3 + gamma**2 + 2*gamma + 1)"
      ]
     },
     "execution_count": 29,
     "metadata": {},
     "output_type": "execute_result"
    }
   ],
   "source": [
    "eq = diff(U,x).subs(y,0).subs([(x,1-mu+gamma)])\n",
    "simplify(eq)\n",
    "Mu = solve(eq,mu)[0]\n",
    "Mu"
   ]
  },
  {
   "cell_type": "code",
   "execution_count": 30,
   "id": "588bd8f5",
   "metadata": {},
   "outputs": [
    {
     "data": {
      "text/latex": [
       "$\\displaystyle \\frac{\\gamma^{5} + 3 \\gamma^{4} + 3 \\gamma^{3} + 11 \\gamma^{2} + 15 \\gamma + 9}{\\gamma^{5} + 3 \\gamma^{4} + 3 \\gamma^{3} + 3 \\gamma^{2} + 3 \\gamma + 1}$"
      ],
      "text/plain": [
       "(gamma**5 + 3*gamma**4 + 3*gamma**3 + 11*gamma**2 + 15*gamma + 9)/(gamma**5 + 3*gamma**4 + 3*gamma**3 + 3*gamma**2 + 3*gamma + 1)"
      ]
     },
     "execution_count": 30,
     "metadata": {},
     "output_type": "execute_result"
    }
   ],
   "source": [
    "Uxx = simplify(diff(U,x,x).subs([(y,0),(x-1+mu,gamma),(mu,Mu)]))#U_xx\n",
    "Uxx"
   ]
  },
  {
   "cell_type": "code",
   "execution_count": 31,
   "id": "765fa628",
   "metadata": {},
   "outputs": [
    {
     "data": {
      "text/latex": [
       "$\\displaystyle \\frac{\\gamma^{5} + 3 \\gamma^{4} + 3 \\gamma^{3} - \\gamma^{2} - 3 \\gamma - 3}{\\gamma^{5} + 3 \\gamma^{4} + 3 \\gamma^{3} + 3 \\gamma^{2} + 3 \\gamma + 1}$"
      ],
      "text/plain": [
       "(gamma**5 + 3*gamma**4 + 3*gamma**3 - gamma**2 - 3*gamma - 3)/(gamma**5 + 3*gamma**4 + 3*gamma**3 + 3*gamma**2 + 3*gamma + 1)"
      ]
     },
     "execution_count": 31,
     "metadata": {},
     "output_type": "execute_result"
    }
   ],
   "source": [
    "Uyy = diff(U,y,y).subs([(y,0),(x-1+mu,gamma),(mu,Mu)]).simplify()\n",
    "Uyy"
   ]
  },
  {
   "cell_type": "code",
   "execution_count": 32,
   "id": "713de6fc",
   "metadata": {},
   "outputs": [
    {
     "data": {
      "text/latex": [
       "$\\displaystyle - \\frac{30 \\gamma^{3} + 60 \\gamma^{2} + 60 \\gamma + 18}{\\gamma \\left(\\gamma^{6} + 4 \\gamma^{5} + 6 \\gamma^{4} + 6 \\gamma^{3} + 6 \\gamma^{2} + 4 \\gamma + 1\\right)}$"
      ],
      "text/plain": [
       "-(30*gamma**3 + 60*gamma**2 + 60*gamma + 18)/(gamma*(gamma**6 + 4*gamma**5 + 6*gamma**4 + 6*gamma**3 + 6*gamma**2 + 4*gamma + 1))"
      ]
     },
     "execution_count": 32,
     "metadata": {},
     "output_type": "execute_result"
    }
   ],
   "source": [
    "diff(U,x,x,x).subs([(y,0),(x-1+mu,gamma),(mu,Mu)]).simplify()"
   ]
  },
  {
   "cell_type": "code",
   "execution_count": 33,
   "id": "24f95320",
   "metadata": {},
   "outputs": [
    {
     "data": {
      "text/latex": [
       "$\\displaystyle \\frac{3 \\left(5 \\gamma^{3} + 10 \\gamma^{2} + 10 \\gamma + 3\\right)}{\\gamma \\left(\\gamma^{6} + 4 \\gamma^{5} + 6 \\gamma^{4} + 6 \\gamma^{3} + 6 \\gamma^{2} + 4 \\gamma + 1\\right)}$"
      ],
      "text/plain": [
       "3*(5*gamma**3 + 10*gamma**2 + 10*gamma + 3)/(gamma*(gamma**6 + 4*gamma**5 + 6*gamma**4 + 6*gamma**3 + 6*gamma**2 + 4*gamma + 1))"
      ]
     },
     "execution_count": 33,
     "metadata": {},
     "output_type": "execute_result"
    }
   ],
   "source": [
    "diff(U,x,y,y).subs([(y,0),(x-1+mu,gamma),(mu,Mu)]).simplify()"
   ]
  },
  {
   "cell_type": "code",
   "execution_count": 34,
   "id": "11dbe4a6",
   "metadata": {},
   "outputs": [
    {
     "data": {
      "text/latex": [
       "$\\displaystyle 0$"
      ],
      "text/plain": [
       "0"
      ]
     },
     "execution_count": 34,
     "metadata": {},
     "output_type": "execute_result"
    }
   ],
   "source": [
    "diff(U,y,y,y).subs([(y,0)])"
   ]
  },
  {
   "cell_type": "code",
   "execution_count": 35,
   "id": "743678f8",
   "metadata": {},
   "outputs": [
    {
     "data": {
      "text/plain": [
       "'\\\\frac{9 \\\\left(6 \\\\gamma^{4} + 15 \\\\gamma^{3} + 20 \\\\gamma^{2} + 12 \\\\gamma + 3\\\\right)}{\\\\gamma^{2} \\\\left(\\\\gamma^{7} + 5 \\\\gamma^{6} + 10 \\\\gamma^{5} + 12 \\\\gamma^{4} + 12 \\\\gamma^{3} + 10 \\\\gamma^{2} + 5 \\\\gamma + 1\\\\right)}'"
      ]
     },
     "execution_count": 35,
     "metadata": {},
     "output_type": "execute_result"
    }
   ],
   "source": [
    "latex(diff(U,y,4).subs([(y,0),(x-1+mu,gamma),(mu,Mu)]).simplify())"
   ]
  },
  {
   "cell_type": "code",
   "execution_count": 23,
   "id": "c070f616",
   "metadata": {},
   "outputs": [
    {
     "data": {
      "text/latex": [
       "$\\displaystyle \\frac{1 - \\mu}{\\sqrt{y^{2} + \\left(\\mu + x\\right)^{2}}} + \\frac{y^{2}}{2} + \\frac{x^{2}}{2} + \\frac{\\mu}{\\sqrt{y^{2} + \\left(\\mu + x - 1\\right)^{2}}} + O\\left(x^{6}\\right)$"
      ],
      "text/plain": [
       "(1 - mu)/sqrt(y**2 + (mu + x)**2) + y**2/2 + x**2/2 + mu/sqrt(y**2 + (mu + x - 1)**2) + O(x**6)"
      ]
     },
     "execution_count": 23,
     "metadata": {},
     "output_type": "execute_result"
    }
   ],
   "source": [
    "f = sin(x)\n",
    "fps(U,x).truncate()"
   ]
  }
 ],
 "metadata": {
  "kernelspec": {
   "display_name": "Python 3",
   "language": "python",
   "name": "python3"
  },
  "language_info": {
   "codemirror_mode": {
    "name": "ipython",
    "version": 3
   },
   "file_extension": ".py",
   "mimetype": "text/x-python",
   "name": "python",
   "nbconvert_exporter": "python",
   "pygments_lexer": "ipython3",
   "version": "3.8.8"
  }
 },
 "nbformat": 4,
 "nbformat_minor": 5
}
