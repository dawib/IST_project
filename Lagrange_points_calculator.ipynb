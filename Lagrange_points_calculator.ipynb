{
 "cells": [
  {
   "cell_type": "code",
   "execution_count": 1,
   "id": "ef341985",
   "metadata": {},
   "outputs": [],
   "source": [
    "from sympy import *\n",
    "from sympy.solvers import solve\n",
    "from sympy.plotting import plot_implicit"
   ]
  },
  {
   "cell_type": "code",
   "execution_count": 2,
   "id": "793cc527",
   "metadata": {},
   "outputs": [
    {
     "data": {
      "text/latex": [
       "$\\displaystyle x + \\frac{y}{\\left(x + y - 1\\right)^{2}} - \\frac{1 - y}{\\left(x + y\\right)^{2}}$"
      ],
      "text/plain": [
       "x + y/(x + y - 1)**2 - (1 - y)/(x + y)**2"
      ]
     },
     "execution_count": 2,
     "metadata": {},
     "output_type": "execute_result"
    }
   ],
   "source": [
    "\n",
    "pot = x*x/2 + (1-y)/(x+y)-y/(x-1+y)\n",
    "expr = diff(pot,x)\n",
    "expr"
   ]
  },
  {
   "cell_type": "code",
   "execution_count": 29,
   "id": "01bbbb81",
   "metadata": {},
   "outputs": [],
   "source": [
    "\n",
    "nu = Symbol('nu')\n",
    "#gamma = Symbol('gamma')\n",
    "#mu = Symbol('mu')\n",
    "x = Function('x')(nu)\n",
    "\n",
    "imp = x*(x+nu**3)**2*(x+nu**3-1)**2 -(1-nu**3)*(x+nu**3-1)**2+nu**3*(x+nu**3)**2\n",
    "#imp = gamma**2*(1-gamma)**2*(1-mu-gamma) - (1-mu)*gamma**2 + (1-gamma)**2*mu\n",
    "#plot_implicit(x*(x+nu**3)**2*(x+nu**3-1)**2 -(1-nu**3)*(x+nu**3-1)**2+nu**3*(x+nu**3)**2, (x,1-.1,1+.1), (nu, -.1,.1))"
   ]
  },
  {
   "cell_type": "code",
   "execution_count": 30,
   "id": "4c0057e8",
   "metadata": {},
   "outputs": [
    {
     "data": {
      "text/plain": [
       "[1, -1/2 - sqrt(3)*I/2, -1/2 + sqrt(3)*I/2]"
      ]
     },
     "execution_count": 30,
     "metadata": {},
     "output_type": "execute_result"
    }
   ],
   "source": [
    "solve(imp.subs(nu,0),x.subs(nu,0))"
   ]
  },
  {
   "cell_type": "code",
   "execution_count": 31,
   "id": "72741815",
   "metadata": {},
   "outputs": [
    {
     "data": {
      "text/latex": [
       "$\\displaystyle \\frac{\\nu^{2} \\left(- 12 \\nu^{9} x{\\left(\\nu \\right)} - 36 \\nu^{6} x^{2}{\\left(\\nu \\right)} + 18 \\nu^{6} x{\\left(\\nu \\right)} - 18 \\nu^{6} - 36 \\nu^{3} x^{3}{\\left(\\nu \\right)} + 36 \\nu^{3} x^{2}{\\left(\\nu \\right)} - 30 \\nu^{3} x{\\left(\\nu \\right)} + 18 \\nu^{3} - 12 x^{4}{\\left(\\nu \\right)} + 18 x^{3}{\\left(\\nu \\right)} - 12 x^{2}{\\left(\\nu \\right)} + 12 x{\\left(\\nu \\right)} - 9\\right)}{\\nu^{12} + 8 \\nu^{9} x{\\left(\\nu \\right)} - 2 \\nu^{9} + 18 \\nu^{6} x^{2}{\\left(\\nu \\right)} - 12 \\nu^{6} x{\\left(\\nu \\right)} + 5 \\nu^{6} + 16 \\nu^{3} x^{3}{\\left(\\nu \\right)} - 18 \\nu^{3} x^{2}{\\left(\\nu \\right)} + 8 \\nu^{3} x{\\left(\\nu \\right)} - 4 \\nu^{3} + 5 x^{4}{\\left(\\nu \\right)} - 8 x^{3}{\\left(\\nu \\right)} + 3 x^{2}{\\left(\\nu \\right)} - 2 x{\\left(\\nu \\right)} + 2}$"
      ],
      "text/plain": [
       "nu**2*(-12*nu**9*x(nu) - 36*nu**6*x(nu)**2 + 18*nu**6*x(nu) - 18*nu**6 - 36*nu**3*x(nu)**3 + 36*nu**3*x(nu)**2 - 30*nu**3*x(nu) + 18*nu**3 - 12*x(nu)**4 + 18*x(nu)**3 - 12*x(nu)**2 + 12*x(nu) - 9)/(nu**12 + 8*nu**9*x(nu) - 2*nu**9 + 18*nu**6*x(nu)**2 - 12*nu**6*x(nu) + 5*nu**6 + 16*nu**3*x(nu)**3 - 18*nu**3*x(nu)**2 + 8*nu**3*x(nu) - 4*nu**3 + 5*x(nu)**4 - 8*x(nu)**3 + 3*x(nu)**2 - 2*x(nu) + 2)"
      ]
     },
     "execution_count": 31,
     "metadata": {},
     "output_type": "execute_result"
    }
   ],
   "source": [
    "imp1 = diff(imp,nu)\n",
    "simplify(solve(imp1,diff(x,nu))[0])\n",
    "#imp1.subs([(mu,0),(gamma.subs(mu,0),0)])"
   ]
  },
  {
   "cell_type": "code",
   "execution_count": 37,
   "id": "db27733e",
   "metadata": {},
   "outputs": [
    {
     "data": {
      "text/latex": [
       "$\\displaystyle 0$"
      ],
      "text/plain": [
       "0"
      ]
     },
     "execution_count": 37,
     "metadata": {},
     "output_type": "execute_result"
    }
   ],
   "source": [
    "imp2 = diff(imp1,nu)\n",
    "imp2.subs([(nu,0),(x.subs(nu,0),1)])"
   ]
  },
  {
   "cell_type": "code",
   "execution_count": 21,
   "id": "ca55cfbb",
   "metadata": {},
   "outputs": [
    {
     "data": {
      "text/latex": [
       "$\\displaystyle 6 \\left. \\frac{d}{d \\gamma} \\mu{\\left(\\gamma \\right)} \\right|_{\\substack{ \\gamma=0 }} - 6 \\left. \\frac{d^{2}}{d \\gamma^{2}} \\mu{\\left(\\gamma \\right)} \\right|_{\\substack{ \\gamma=0 }} + \\left. \\frac{d^{3}}{d \\gamma^{3}} \\mu{\\left(\\gamma \\right)} \\right|_{\\substack{ \\gamma=0 }} - 18$"
      ],
      "text/plain": [
       "6*Subs(Derivative(mu(gamma), gamma), gamma, 0) - 6*Subs(Derivative(mu(gamma), (gamma, 2)), gamma, 0) + Subs(Derivative(mu(gamma), (gamma, 3)), gamma, 0) - 18"
      ]
     },
     "execution_count": 21,
     "metadata": {},
     "output_type": "execute_result"
    }
   ],
   "source": [
    "imp3 = diff(imp2,gamma)\n",
    "imp3.subs([(gamma,0),(mu.subs(gamma,0),0)])"
   ]
  },
  {
   "cell_type": "code",
   "execution_count": 1,
   "id": "5132b159",
   "metadata": {},
   "outputs": [
    {
     "name": "stdout",
     "output_type": "stream",
     "text": [
      "1.6422315548646298\n",
      "1.0047496895387038 -1.5001004654773493\n",
      "[-2.49692023059352, 2.49692023059352, -2.06467615310203*I, 2.06467615310203*I]\n",
      "[0.551654745309908, 2.65380280650782, -4.11071185478145, 7.99726982315446]\n",
      "-0.8111349321345599\n"
     ]
    },
    {
     "data": {
      "image/png": "[encoded data removed]",
      "text/plain": [
       "<Figure size 432x288 with 1 Axes>"
      ]
     },
     "metadata": {
      "needs_background": "light"
     },
     "output_type": "display_data"
    },
    {
     "data": {
      "image/png": "[encoded data removed]",
      "text/plain": [
       "<Figure size 432x288 with 1 Axes>"
      ]
     },
     "metadata": {
      "needs_background": "light"
     },
     "output_type": "display_data"
    },
    {
     "data": {
      "image/png": "[encoded data removed]",
      "text/plain": [
       "<Figure size 432x288 with 1 Axes>"
      ]
     },
     "metadata": {
      "needs_background": "light"
     },
     "output_type": "display_data"
    },
    {
     "data": {
      "text/plain": [
       "0.014473155748012237"
      ]
     },
     "execution_count": 1,
     "metadata": {},
     "output_type": "execute_result"
    }
   ],
   "source": [
    "import sympy as sp\n",
    "import numpy as np\n",
    "from scipy.optimize import fsolve\n",
    "from matplotlib import pyplot as plt\n",
    "\n",
    "factor = 7.7857/2.2792\n",
    "a = 3**(-2/3)*factor\n",
    "print(a)\n",
    "a_min = (3**(-2/3)-.149)*factor\n",
    "a_max = (3**(-2/3)+.149)*factor\n",
    "\n",
    "e, p, q = sp.symbols('e phi psi')\n",
    "x = (a*(1-e**2))/(1+e*sp.cos(p-q))*sp.cos(p)\n",
    "y = (a*(1-e**2))/(1+e*sp.cos(p-q))*sp.sin(p)\n",
    "xd = y - (sp.sin(p)+e*sp.sin(q))/sp.sqrt(a*(1-e**2))\n",
    "yd = -x + (sp.cos(p)+e*sp.cos(q))/(sp.sqrt(a*(1-e**2)))\n",
    "\n",
    "\n",
    "\n",
    "mu = 6.4/(6.4+2*10**7)\n",
    "xe, ye = sp.symbols('x y')\n",
    "U = xe**2/2 + (1-mu)/sp.sqrt((xe+mu)**2) + mu/sp.sqrt((xe+mu-1)**2)\n",
    "Ud = sp.diff(U,xe)\n",
    "\n",
    "def UU(x,y):\n",
    "    return -.5*(x**2+y**2) - (1-mu)/((x+mu)**2+y**2)**.5 - mu/((x-1+mu)**2+y**2)**.5\n",
    "\n",
    "Um = sp.lambdify(xe,Ud,\"scipy\")\n",
    "XE = fsolve(Um,1.01, xtol=.0000000000001)[0]\n",
    "print(XE, UU(XE,0))\n",
    "mub = mu*np.abs(XE-1+mu)**(-3) + (1-mu)*np.abs(XE+mu)**(-3)\n",
    "A, B = 2*mub+1, mub-1\n",
    "\n",
    "eigen = sp.solve(xe**4+(2-mub)*xe**2+(1+mub-2*mub**2),xe)\n",
    "print(eigen)\n",
    "ei_lam, ei_nu = eigen[1], eigen[3]/sp.I\n",
    "\n",
    "sigma = 2*ei_lam/(ei_lam**2+B)\n",
    "tau = -(ei_nu**2+A)/(2*ei_nu)\n",
    "\n",
    "alpha = ((x-XE)*(ei_lam*ei_nu*tau**2)+y*(ei_lam*ei_nu*sigma+ei_nu**2*tau)+xd*(ei_lam*sigma*tau+ei_nu*tau**2)+yd*(-ei_lam*tau+ei_nu*sigma))/(2*ei_lam**2*sigma*tau-2*ei_lam*ei_nu*sigma**2+2*ei_lam*ei_nu*tau**2-2*ei_nu**2*sigma*tau)\n",
    "div = 2*ei_lam**2*sigma*tau-2*ei_lam*ei_nu*sigma**2+2*ei_lam*ei_nu*tau**2-2*ei_nu**2*sigma*tau\n",
    "print([ei_lam*ei_nu*tau**2/div,ei_lam*ei_nu*sigma+ei_nu**2*tau/div,ei_lam*sigma*tau+ei_nu*tau**2/div,-ei_lam*tau+ei_nu*sigma/div])\n",
    "\n",
    "uuu = sp.solve(a*(1-e**2)/(1+e*sp.cos(q))-1,e)\n",
    "\n",
    "alpha2 = alpha.subs(p,0)\n",
    "fun = [alpha2.subs(e,uuu[0]), alpha2.subs(e,uuu[1])]\n",
    "\n",
    "f = sp.lambdify(q, fun[0], \"numpy\")\n",
    "g = sp.lambdify(q,fun[1], \"numpy\")\n",
    "\n",
    "ee1 = sp.lambdify(q, uuu[0], \"numpy\")\n",
    "ee2 = sp.lambdify(q, uuu[1], \"numpy\")\n",
    "\n",
    "\n",
    "\n",
    "X = np.linspace(.01,2*np.pi-.01,1000)\n",
    "Y = ee2(X)\n",
    "print(ee1(1))\n",
    "plt.plot(X,Y)\n",
    "plt.show()\n",
    "\n",
    "Y = f(X)\n",
    "plt.plot(X,Y)\n",
    "plt.show()\n",
    "\n",
    "Y = g(X)\n",
    "plt.plot(X,Y)\n",
    "plt.show()\n",
    "\n",
    "g(0)"
   ]
  },
  {
   "cell_type": "code",
   "execution_count": 131,
   "id": "dabb8339",
   "metadata": {},
   "outputs": [
    {
     "data": {
      "text/latex": [
       "$\\displaystyle \\frac{e \\sqrt{r \\left(1 - e^{2}\\right)} \\sin{\\left(- \\psi + t + \\theta{\\left(t \\right)} \\right)} \\cos{\\left(\\theta{\\left(t \\right)} \\right)}}{r \\left(1 - e^{2}\\right)} - \\frac{r \\left(-1 + \\frac{\\sqrt{r \\left(1 - e^{2}\\right)} \\left(e \\cos{\\left(- \\psi + t + \\theta{\\left(t \\right)} \\right)} + 1\\right)^{2}}{r^{2} \\left(1 - e^{2}\\right)^{2}}\\right) \\left(1 - e^{2}\\right) \\sin{\\left(\\theta{\\left(t \\right)} \\right)}}{e \\cos{\\left(- \\psi + t + \\theta{\\left(t \\right)} \\right)} + 1}$"
      ],
      "text/plain": [
       "e*sqrt(r*(1 - e**2))*sin(-psi + t + theta(t))*cos(theta(t))/(r*(1 - e**2)) - r*(-1 + sqrt(r*(1 - e**2))*(e*cos(-psi + t + theta(t)) + 1)**2/(r**2*(1 - e**2)**2))*(1 - e**2)*sin(theta(t))/(e*cos(-psi + t + theta(t)) + 1)"
      ]
     },
     "execution_count": 131,
     "metadata": {},
     "output_type": "execute_result"
    }
   ],
   "source": [
    "t, r = sp.symbols('t r')\n",
    "theta = sp.Function('theta')(t)\n",
    "yyd = sp.diff(r*(1-e**2)*sp.cos(theta)/(1+e*sp.cos(theta+t-q)),t).subs(sp.diff(theta,t),(1+e*sp.cos(theta+t-q))**2*sp.sqrt(r*(1-e**2))/(r*(1-e**2))**2-1)\n",
    "yyd#(1+e*sp.cos(theta+t-q))**2*sp.sqrt(r**2*(1-e**2))/(r*(1-e**2))**2-1"
   ]
  }
 ],
 "metadata": {
  "kernelspec": {
   "display_name": "Python 3",
   "language": "python",
   "name": "python3"
  },
  "language_info": {
   "codemirror_mode": {
    "name": "ipython",
    "version": 3
   },
   "file_extension": ".py",
   "mimetype": "text/x-python",
   "name": "python",
   "nbconvert_exporter": "python",
   "pygments_lexer": "ipython3",
   "version": "3.8.8"
  }
 },
 "nbformat": 4,
 "nbformat_minor": 5
}
